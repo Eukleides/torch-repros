{
 "cells": [
  {
   "cell_type": "code",
   "execution_count": 1,
   "id": "f45d404f-a2ff-415c-9306-260f6720f94e",
   "metadata": {},
   "outputs": [],
   "source": [
    "import torch\n",
    "from torch import nn"
   ]
  },
  {
   "cell_type": "code",
   "execution_count": 2,
   "id": "5898d1f9-2d70-40be-8069-7d8ba73e3143",
   "metadata": {},
   "outputs": [],
   "source": [
    "d = nn.Dropout(0.1)"
   ]
  },
  {
   "cell_type": "code",
   "execution_count": 12,
   "id": "f2fc41e5-8861-427b-8643-cfeec6c3b0c6",
   "metadata": {},
   "outputs": [],
   "source": [
    "x = torch.ones(10,10)"
   ]
  },
  {
   "cell_type": "code",
   "execution_count": 13,
   "id": "95e2e501-c46d-474d-8e99-17501a9834a5",
   "metadata": {},
   "outputs": [
    {
     "data": {
      "text/plain": [
       "tensor([[1., 1., 1., 1., 1., 1., 1., 1., 1., 1.],\n",
       "        [1., 1., 1., 1., 1., 1., 1., 1., 1., 1.],\n",
       "        [1., 1., 1., 1., 1., 1., 1., 1., 1., 1.],\n",
       "        [1., 1., 1., 1., 1., 1., 1., 1., 1., 1.],\n",
       "        [1., 1., 1., 1., 1., 1., 1., 1., 1., 1.],\n",
       "        [1., 1., 1., 1., 1., 1., 1., 1., 1., 1.],\n",
       "        [1., 1., 1., 1., 1., 1., 1., 1., 1., 1.],\n",
       "        [1., 1., 1., 1., 1., 1., 1., 1., 1., 1.],\n",
       "        [1., 1., 1., 1., 1., 1., 1., 1., 1., 1.],\n",
       "        [1., 1., 1., 1., 1., 1., 1., 1., 1., 1.]])"
      ]
     },
     "execution_count": 13,
     "metadata": {},
     "output_type": "execute_result"
    }
   ],
   "source": [
    "x"
   ]
  },
  {
   "cell_type": "code",
   "execution_count": 14,
   "id": "fce52ee7-5738-404b-ac65-da42be3379dd",
   "metadata": {},
   "outputs": [],
   "source": [
    "y = d(x)"
   ]
  },
  {
   "cell_type": "code",
   "execution_count": 15,
   "id": "6a3c0860-f568-4042-9ef9-87aee569fedf",
   "metadata": {},
   "outputs": [
    {
     "data": {
      "text/plain": [
       "tensor([[1.1111, 1.1111, 1.1111, 0.0000, 1.1111, 1.1111, 1.1111, 1.1111, 1.1111,\n",
       "         1.1111],\n",
       "        [0.0000, 1.1111, 1.1111, 1.1111, 1.1111, 1.1111, 0.0000, 1.1111, 1.1111,\n",
       "         1.1111],\n",
       "        [1.1111, 1.1111, 0.0000, 1.1111, 1.1111, 1.1111, 1.1111, 1.1111, 1.1111,\n",
       "         1.1111],\n",
       "        [0.0000, 0.0000, 0.0000, 1.1111, 1.1111, 1.1111, 1.1111, 1.1111, 1.1111,\n",
       "         1.1111],\n",
       "        [0.0000, 1.1111, 0.0000, 1.1111, 1.1111, 0.0000, 1.1111, 1.1111, 1.1111,\n",
       "         1.1111],\n",
       "        [1.1111, 1.1111, 1.1111, 1.1111, 1.1111, 1.1111, 1.1111, 1.1111, 1.1111,\n",
       "         1.1111],\n",
       "        [1.1111, 1.1111, 1.1111, 1.1111, 1.1111, 1.1111, 1.1111, 1.1111, 1.1111,\n",
       "         1.1111],\n",
       "        [1.1111, 1.1111, 1.1111, 1.1111, 1.1111, 1.1111, 1.1111, 1.1111, 1.1111,\n",
       "         1.1111],\n",
       "        [1.1111, 1.1111, 1.1111, 1.1111, 1.1111, 1.1111, 1.1111, 1.1111, 1.1111,\n",
       "         1.1111],\n",
       "        [1.1111, 0.0000, 1.1111, 1.1111, 1.1111, 1.1111, 0.0000, 1.1111, 1.1111,\n",
       "         1.1111]])"
      ]
     },
     "execution_count": 15,
     "metadata": {},
     "output_type": "execute_result"
    }
   ],
   "source": [
    "y"
   ]
  },
  {
   "cell_type": "code",
   "execution_count": 16,
   "id": "560bed24-28f4-46b2-be8a-ec63972c6e80",
   "metadata": {},
   "outputs": [
    {
     "data": {
      "text/plain": [
       "1.1111111111111112"
      ]
     },
     "execution_count": 16,
     "metadata": {},
     "output_type": "execute_result"
    }
   ],
   "source": [
    "1/(1-0.1)"
   ]
  },
  {
   "cell_type": "code",
   "execution_count": 19,
   "id": "659f3983-caa1-4a52-9353-4b00ddbf950a",
   "metadata": {},
   "outputs": [
    {
     "data": {
      "text/plain": [
       "tensor(12)"
      ]
     },
     "execution_count": 19,
     "metadata": {},
     "output_type": "execute_result"
    }
   ],
   "source": [
    "100-torch.count_nonzero(y)"
   ]
  },
  {
   "cell_type": "code",
   "execution_count": null,
   "id": "37d7e79f-31ac-4d8f-adb2-1b253b4c369f",
   "metadata": {},
   "outputs": [],
   "source": []
  }
 ],
 "metadata": {
  "kernelspec": {
   "display_name": "Python 3 (ipykernel)",
   "language": "python",
   "name": "python3"
  },
  "language_info": {
   "codemirror_mode": {
    "name": "ipython",
    "version": 3
   },
   "file_extension": ".py",
   "mimetype": "text/x-python",
   "name": "python",
   "nbconvert_exporter": "python",
   "pygments_lexer": "ipython3",
   "version": "3.11.5"
  }
 },
 "nbformat": 4,
 "nbformat_minor": 5
}
