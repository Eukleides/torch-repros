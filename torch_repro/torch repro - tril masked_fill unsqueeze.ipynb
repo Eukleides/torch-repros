{
 "cells": [
  {
   "cell_type": "code",
   "execution_count": 1,
   "id": "d700c590-e799-4379-8c09-7992a542e7f9",
   "metadata": {},
   "outputs": [],
   "source": [
    "import torch\n",
    "from torch import nn"
   ]
  },
  {
   "cell_type": "code",
   "execution_count": 5,
   "id": "46f6fd48-1b54-447e-b69a-cc3d8ccdb842",
   "metadata": {},
   "outputs": [],
   "source": [
    "a = torch.tril(torch.ones(5,5))"
   ]
  },
  {
   "cell_type": "code",
   "execution_count": 9,
   "id": "f99cf41e-c25b-43ce-b0c2-b0d57a371487",
   "metadata": {},
   "outputs": [
    {
     "data": {
      "text/plain": [
       "(tensor([[1., 0., 0., 0., 0.],\n",
       "         [1., 1., 0., 0., 0.],\n",
       "         [1., 1., 1., 0., 0.],\n",
       "         [1., 1., 1., 1., 0.],\n",
       "         [1., 1., 1., 1., 1.]]),\n",
       " torch.Size([5, 5]))"
      ]
     },
     "execution_count": 9,
     "metadata": {},
     "output_type": "execute_result"
    }
   ],
   "source": [
    "a, a.shape"
   ]
  },
  {
   "cell_type": "code",
   "execution_count": 10,
   "id": "61966710-43bd-4ba0-89ca-caade1748db2",
   "metadata": {},
   "outputs": [
    {
     "data": {
      "text/plain": [
       "(tensor([[[1., 0., 0., 0., 0.],\n",
       "          [1., 1., 0., 0., 0.],\n",
       "          [1., 1., 1., 0., 0.],\n",
       "          [1., 1., 1., 1., 0.],\n",
       "          [1., 1., 1., 1., 1.]]]),\n",
       " torch.Size([1, 5, 5]))"
      ]
     },
     "execution_count": 10,
     "metadata": {},
     "output_type": "execute_result"
    }
   ],
   "source": [
    "a.unsqueeze(0), a.unsqueeze(0).shape"
   ]
  },
  {
   "cell_type": "code",
   "execution_count": 11,
   "id": "d75b53a1-31d8-4021-a226-814be1fc2a10",
   "metadata": {},
   "outputs": [
    {
     "data": {
      "text/plain": [
       "(tensor([[[[1., 0., 0., 0., 0.],\n",
       "           [1., 1., 0., 0., 0.],\n",
       "           [1., 1., 1., 0., 0.],\n",
       "           [1., 1., 1., 1., 0.],\n",
       "           [1., 1., 1., 1., 1.]]]]),\n",
       " torch.Size([1, 1, 5, 5]))"
      ]
     },
     "execution_count": 11,
     "metadata": {},
     "output_type": "execute_result"
    }
   ],
   "source": [
    "a.unsqueeze(0).unsqueeze(0), a.unsqueeze(0).unsqueeze(0).shape"
   ]
  },
  {
   "cell_type": "code",
   "execution_count": 16,
   "id": "2d1921a4-e8bb-4ac8-bed4-ab62ddac3f74",
   "metadata": {},
   "outputs": [
    {
     "data": {
      "text/plain": [
       "(tensor([[[1.],\n",
       "          [0.],\n",
       "          [0.],\n",
       "          [0.],\n",
       "          [0.]],\n",
       " \n",
       "         [[1.],\n",
       "          [1.],\n",
       "          [0.],\n",
       "          [0.],\n",
       "          [0.]],\n",
       " \n",
       "         [[1.],\n",
       "          [1.],\n",
       "          [1.],\n",
       "          [0.],\n",
       "          [0.]],\n",
       " \n",
       "         [[1.],\n",
       "          [1.],\n",
       "          [1.],\n",
       "          [1.],\n",
       "          [0.]],\n",
       " \n",
       "         [[1.],\n",
       "          [1.],\n",
       "          [1.],\n",
       "          [1.],\n",
       "          [1.]]]),\n",
       " torch.Size([5, 5, 1]))"
      ]
     },
     "execution_count": 16,
     "metadata": {},
     "output_type": "execute_result"
    }
   ],
   "source": [
    "a.unsqueeze(-1), a.unsqueeze(-1).shape"
   ]
  },
  {
   "cell_type": "code",
   "execution_count": 30,
   "id": "09f25a76-b43d-45b5-aa79-355ebfef6d48",
   "metadata": {},
   "outputs": [],
   "source": [
    "mask = torch.tril((torch.ones(5,5)==1))"
   ]
  },
  {
   "cell_type": "code",
   "execution_count": 33,
   "id": "dc3c9711-a5b8-4b55-a282-f0bcfe9796d9",
   "metadata": {},
   "outputs": [],
   "source": [
    "mask = (mask==False)"
   ]
  },
  {
   "cell_type": "code",
   "execution_count": 34,
   "id": "3a5ab056-4070-41e7-8022-e38b559ff6b9",
   "metadata": {},
   "outputs": [
    {
     "data": {
      "text/plain": [
       "tensor([[False,  True,  True,  True,  True],\n",
       "        [False, False,  True,  True,  True],\n",
       "        [False, False, False,  True,  True],\n",
       "        [False, False, False, False,  True],\n",
       "        [False, False, False, False, False]])"
      ]
     },
     "execution_count": 34,
     "metadata": {},
     "output_type": "execute_result"
    }
   ],
   "source": [
    "mask"
   ]
  },
  {
   "cell_type": "code",
   "execution_count": 22,
   "id": "21835d50-75cb-4f17-99c6-b5f0c58f22d8",
   "metadata": {},
   "outputs": [],
   "source": [
    "b = torch.rand((5,5))"
   ]
  },
  {
   "cell_type": "code",
   "execution_count": 23,
   "id": "0cd61c9a-769c-46bf-9e1b-4ad43b59a8be",
   "metadata": {},
   "outputs": [
    {
     "data": {
      "text/plain": [
       "tensor([[0.6625, 0.1496, 0.8916, 0.3994, 0.6412],\n",
       "        [0.7657, 0.5091, 0.7086, 0.3593, 0.3866],\n",
       "        [0.0441, 0.2587, 0.8087, 0.5764, 0.3573],\n",
       "        [0.7139, 0.0256, 0.3020, 0.8442, 0.4189],\n",
       "        [0.1742, 0.7784, 0.6568, 0.6233, 0.1597]])"
      ]
     },
     "execution_count": 23,
     "metadata": {},
     "output_type": "execute_result"
    }
   ],
   "source": [
    "b"
   ]
  },
  {
   "cell_type": "code",
   "execution_count": 36,
   "id": "408d98fe-aed7-46e1-85f4-0d191e18f75c",
   "metadata": {},
   "outputs": [
    {
     "data": {
      "text/plain": [
       "tensor([[0.6625,   -inf,   -inf,   -inf,   -inf],\n",
       "        [0.7657, 0.5091,   -inf,   -inf,   -inf],\n",
       "        [0.0441, 0.2587, 0.8087,   -inf,   -inf],\n",
       "        [0.7139, 0.0256, 0.3020, 0.8442,   -inf],\n",
       "        [0.1742, 0.7784, 0.6568, 0.6233, 0.1597]])"
      ]
     },
     "execution_count": 36,
     "metadata": {},
     "output_type": "execute_result"
    }
   ],
   "source": [
    "b.masked_fill(mask, -torch.inf)"
   ]
  },
  {
   "cell_type": "code",
   "execution_count": null,
   "id": "238b2b91-5be0-4a07-8898-8881465ef4f4",
   "metadata": {},
   "outputs": [],
   "source": []
  }
 ],
 "metadata": {
  "kernelspec": {
   "display_name": "Python 3 (ipykernel)",
   "language": "python",
   "name": "python3"
  },
  "language_info": {
   "codemirror_mode": {
    "name": "ipython",
    "version": 3
   },
   "file_extension": ".py",
   "mimetype": "text/x-python",
   "name": "python",
   "nbconvert_exporter": "python",
   "pygments_lexer": "ipython3",
   "version": "3.11.5"
  }
 },
 "nbformat": 4,
 "nbformat_minor": 5
}
