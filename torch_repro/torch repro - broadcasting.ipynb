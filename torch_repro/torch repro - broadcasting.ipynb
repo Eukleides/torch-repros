{
 "cells": [
  {
   "cell_type": "code",
   "execution_count": 1,
   "id": "bdbec47a-e9d0-4242-a6cc-b36e7f615e02",
   "metadata": {},
   "outputs": [],
   "source": [
    "import torch\n",
    "from torch import nn\n",
    "import math\n",
    "import torch.nn.functional as F"
   ]
  },
  {
   "cell_type": "code",
   "execution_count": 2,
   "id": "65483177-be38-4909-9286-abc5f31873a6",
   "metadata": {},
   "outputs": [],
   "source": [
    "batch_size = 3\n",
    "d_model = 8\n",
    "seq_length = 5\n",
    "vocab_length = 20"
   ]
  },
  {
   "cell_type": "code",
   "execution_count": 3,
   "id": "19f18175-255a-44f9-8ec6-d873d40a5e98",
   "metadata": {},
   "outputs": [],
   "source": [
    "x = torch.randint(0,11,(2,3,4))"
   ]
  },
  {
   "cell_type": "code",
   "execution_count": 4,
   "id": "daf2f764-41b9-4573-9a17-d576f5578c49",
   "metadata": {},
   "outputs": [
    {
     "data": {
      "text/plain": [
       "tensor([[[ 3,  6,  8,  5],\n",
       "         [ 5,  7,  5,  3],\n",
       "         [ 8,  3,  1,  2]],\n",
       "\n",
       "        [[ 5, 10,  4,  2],\n",
       "         [ 9,  1,  9,  1],\n",
       "         [ 2,  3,  8,  2]]])"
      ]
     },
     "execution_count": 4,
     "metadata": {},
     "output_type": "execute_result"
    }
   ],
   "source": [
    "x"
   ]
  },
  {
   "cell_type": "code",
   "execution_count": 5,
   "id": "9d5c0709-5acb-4b93-94be-db8c94b7e3b5",
   "metadata": {},
   "outputs": [],
   "source": [
    "y = torch.ones((3,4))"
   ]
  },
  {
   "cell_type": "code",
   "execution_count": 6,
   "id": "e408784b-4e0c-4951-a55b-b11eedd524af",
   "metadata": {},
   "outputs": [
    {
     "data": {
      "text/plain": [
       "tensor([[[ 4.,  7.,  9.,  6.],\n",
       "         [ 6.,  8.,  6.,  4.],\n",
       "         [ 9.,  4.,  2.,  3.]],\n",
       "\n",
       "        [[ 6., 11.,  5.,  3.],\n",
       "         [10.,  2., 10.,  2.],\n",
       "         [ 3.,  4.,  9.,  3.]]])"
      ]
     },
     "execution_count": 6,
     "metadata": {},
     "output_type": "execute_result"
    }
   ],
   "source": [
    "x+y"
   ]
  },
  {
   "cell_type": "code",
   "execution_count": null,
   "id": "fa0df7cf-044c-49aa-9d92-a22f0db862e9",
   "metadata": {},
   "outputs": [],
   "source": []
  }
 ],
 "metadata": {
  "kernelspec": {
   "display_name": "Python 3 (ipykernel)",
   "language": "python",
   "name": "python3"
  },
  "language_info": {
   "codemirror_mode": {
    "name": "ipython",
    "version": 3
   },
   "file_extension": ".py",
   "mimetype": "text/x-python",
   "name": "python",
   "nbconvert_exporter": "python",
   "pygments_lexer": "ipython3",
   "version": "3.11.5"
  }
 },
 "nbformat": 4,
 "nbformat_minor": 5
}
