{
 "cells": [
  {
   "cell_type": "code",
   "execution_count": 2,
   "id": "bce3c4ba-9a9f-422c-b2d5-9baa42b5bf1d",
   "metadata": {},
   "outputs": [],
   "source": [
    "import torch\n",
    "from torch import nn"
   ]
  },
  {
   "cell_type": "code",
   "execution_count": 3,
   "id": "424dd3ed-d0b2-42ae-bb2f-324aca5913a6",
   "metadata": {},
   "outputs": [],
   "source": [
    "w1 = nn.Linear(in_features=2,out_features=3,bias=False)"
   ]
  },
  {
   "cell_type": "code",
   "execution_count": 4,
   "id": "52f42bea-c59f-42fa-8fb9-7d073d16d2b9",
   "metadata": {},
   "outputs": [],
   "source": [
    "w2 = nn.Linear(in_features=3,out_features=4,bias=False)"
   ]
  },
  {
   "cell_type": "code",
   "execution_count": 5,
   "id": "a239d343-84e1-43b5-a7ec-95226c6ab7ab",
   "metadata": {},
   "outputs": [],
   "source": [
    "model = nn.Sequential(w1, w2)"
   ]
  },
  {
   "cell_type": "code",
   "execution_count": 6,
   "id": "db46c79d-ff12-4203-9157-2125b8a38078",
   "metadata": {},
   "outputs": [],
   "source": [
    "x = torch.rand(5,2)"
   ]
  },
  {
   "cell_type": "code",
   "execution_count": 7,
   "id": "973d3fbf-627d-469a-83f2-c829482e32f0",
   "metadata": {},
   "outputs": [],
   "source": [
    "y = model(x)"
   ]
  },
  {
   "cell_type": "code",
   "execution_count": 8,
   "id": "6aad8290-7ee0-4484-b4df-09f388d08cdf",
   "metadata": {},
   "outputs": [
    {
     "data": {
      "text/plain": [
       "torch.Size([5, 4])"
      ]
     },
     "execution_count": 8,
     "metadata": {},
     "output_type": "execute_result"
    }
   ],
   "source": [
    "y.shape"
   ]
  },
  {
   "cell_type": "code",
   "execution_count": 9,
   "id": "6443e9c6-fc5e-45ef-b1b9-eace37619d61",
   "metadata": {},
   "outputs": [
    {
     "data": {
      "text/plain": [
       "tensor([[0., 0., 0., 0.],\n",
       "        [0., 0., 0., 0.],\n",
       "        [0., 0., 0., 0.],\n",
       "        [0., 0., 0., 0.],\n",
       "        [0., 0., 0., 0.]], grad_fn=<SubBackward0>)"
      ]
     },
     "execution_count": 9,
     "metadata": {},
     "output_type": "execute_result"
    }
   ],
   "source": [
    "x @ w1.weight.t() @ w2.weight.t() - y"
   ]
  },
  {
   "cell_type": "code",
   "execution_count": 23,
   "id": "689e1034-44b2-4afc-8944-593cc7462887",
   "metadata": {},
   "outputs": [],
   "source": [
    "class Test1(nn.Module):   \n",
    "    def __init__(self):\n",
    "        super().__init__()\n",
    "        torch.manual_seed(3)\n",
    "        \n",
    "        m = nn.ModuleList([nn.Linear(in_features=3,out_features=3,bias=False) for _ in range(4)])\n",
    "        self.model = nn.Sequential(*m)\n",
    "        \n",
    "    def forward(self, x):\n",
    "        return self.model(x)"
   ]
  },
  {
   "cell_type": "code",
   "execution_count": 27,
   "id": "41cbf863-3684-47d9-8526-8e41d0460b74",
   "metadata": {},
   "outputs": [],
   "source": [
    "class Test2(nn.Module):   \n",
    "    def __init__(self):\n",
    "        super().__init__()\n",
    "        torch.manual_seed(3)\n",
    "        \n",
    "        self.m = [nn.Linear(in_features=3,out_features=3,bias=False) for _ in range(4)]\n",
    "        \n",
    "    def forward(self, x):\n",
    "        for i in range(4):\n",
    "            x = self.m[i](x)\n",
    "        return x"
   ]
  },
  {
   "cell_type": "code",
   "execution_count": 28,
   "id": "42e491c8-d7f8-4cee-b910-726ce6705270",
   "metadata": {},
   "outputs": [],
   "source": [
    "x = torch.rand(3,3)"
   ]
  },
  {
   "cell_type": "code",
   "execution_count": 29,
   "id": "d11ad372-cd07-4bf4-aba7-f06e79ec00c7",
   "metadata": {},
   "outputs": [],
   "source": [
    "m1 = Test1()"
   ]
  },
  {
   "cell_type": "code",
   "execution_count": 30,
   "id": "9bf17253-8e34-4526-a187-55722aba0a0d",
   "metadata": {},
   "outputs": [],
   "source": [
    "y1 = m1(x)"
   ]
  },
  {
   "cell_type": "code",
   "execution_count": 31,
   "id": "3906621b-8344-42bd-a042-3cd7d298cc65",
   "metadata": {},
   "outputs": [],
   "source": [
    "m2 = Test2()"
   ]
  },
  {
   "cell_type": "code",
   "execution_count": 32,
   "id": "2039ab13-06e2-4b27-87cc-a9d6291fd127",
   "metadata": {},
   "outputs": [],
   "source": [
    "y2 = m2(x)"
   ]
  },
  {
   "cell_type": "code",
   "execution_count": 33,
   "id": "11dd9b7b-e466-4782-8eb3-76be4644867b",
   "metadata": {},
   "outputs": [
    {
     "data": {
      "text/plain": [
       "tensor([[ 0.0592, -0.0111,  0.0238],\n",
       "        [ 0.1033, -0.0216,  0.0483],\n",
       "        [ 0.1105, -0.0206,  0.0440]], grad_fn=<MmBackward0>)"
      ]
     },
     "execution_count": 33,
     "metadata": {},
     "output_type": "execute_result"
    }
   ],
   "source": [
    "y1"
   ]
  },
  {
   "cell_type": "code",
   "execution_count": 34,
   "id": "4f0ed83e-f6e5-4ce3-b45b-044146854646",
   "metadata": {},
   "outputs": [
    {
     "data": {
      "text/plain": [
       "tensor([[ 0.0592, -0.0111,  0.0238],\n",
       "        [ 0.1033, -0.0216,  0.0483],\n",
       "        [ 0.1105, -0.0206,  0.0440]], grad_fn=<MmBackward0>)"
      ]
     },
     "execution_count": 34,
     "metadata": {},
     "output_type": "execute_result"
    }
   ],
   "source": [
    "y2"
   ]
  },
  {
   "cell_type": "code",
   "execution_count": 35,
   "id": "52f3a085-a2e4-4b3c-85ff-a788545d29d7",
   "metadata": {},
   "outputs": [
    {
     "data": {
      "text/plain": [
       "tensor([[0., 0., 0.],\n",
       "        [0., 0., 0.],\n",
       "        [0., 0., 0.]], grad_fn=<SubBackward0>)"
      ]
     },
     "execution_count": 35,
     "metadata": {},
     "output_type": "execute_result"
    }
   ],
   "source": [
    "y1-y2"
   ]
  },
  {
   "cell_type": "code",
   "execution_count": null,
   "id": "f2fbb83e-46e7-4a0d-984f-54ca96f0c256",
   "metadata": {},
   "outputs": [],
   "source": []
  }
 ],
 "metadata": {
  "kernelspec": {
   "display_name": "Python 3 (ipykernel)",
   "language": "python",
   "name": "python3"
  },
  "language_info": {
   "codemirror_mode": {
    "name": "ipython",
    "version": 3
   },
   "file_extension": ".py",
   "mimetype": "text/x-python",
   "name": "python",
   "nbconvert_exporter": "python",
   "pygments_lexer": "ipython3",
   "version": "3.11.5"
  }
 },
 "nbformat": 4,
 "nbformat_minor": 5
}
