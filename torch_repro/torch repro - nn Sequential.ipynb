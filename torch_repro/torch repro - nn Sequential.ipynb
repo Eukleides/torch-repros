{
 "cells": [
  {
   "cell_type": "code",
   "execution_count": 1,
   "id": "bce3c4ba-9a9f-422c-b2d5-9baa42b5bf1d",
   "metadata": {},
   "outputs": [],
   "source": [
    "import torch\n",
    "from torch import nn"
   ]
  },
  {
   "cell_type": "code",
   "execution_count": 2,
   "id": "424dd3ed-d0b2-42ae-bb2f-324aca5913a6",
   "metadata": {},
   "outputs": [],
   "source": [
    "w1 = nn.Linear(in_features=2,out_features=3,bias=False)"
   ]
  },
  {
   "cell_type": "code",
   "execution_count": 3,
   "id": "52f42bea-c59f-42fa-8fb9-7d073d16d2b9",
   "metadata": {},
   "outputs": [],
   "source": [
    "w2 = nn.Linear(in_features=3,out_features=4,bias=False)"
   ]
  },
  {
   "cell_type": "code",
   "execution_count": 4,
   "id": "a239d343-84e1-43b5-a7ec-95226c6ab7ab",
   "metadata": {},
   "outputs": [],
   "source": [
    "model = nn.Sequential(w1, w2)"
   ]
  },
  {
   "cell_type": "code",
   "execution_count": 5,
   "id": "db46c79d-ff12-4203-9157-2125b8a38078",
   "metadata": {},
   "outputs": [],
   "source": [
    "x = torch.rand(5,2)"
   ]
  },
  {
   "cell_type": "code",
   "execution_count": 6,
   "id": "973d3fbf-627d-469a-83f2-c829482e32f0",
   "metadata": {},
   "outputs": [],
   "source": [
    "y = model(x)"
   ]
  },
  {
   "cell_type": "code",
   "execution_count": 7,
   "id": "6aad8290-7ee0-4484-b4df-09f388d08cdf",
   "metadata": {},
   "outputs": [
    {
     "data": {
      "text/plain": [
       "torch.Size([5, 4])"
      ]
     },
     "execution_count": 7,
     "metadata": {},
     "output_type": "execute_result"
    }
   ],
   "source": [
    "y.shape"
   ]
  },
  {
   "cell_type": "code",
   "execution_count": 16,
   "id": "6443e9c6-fc5e-45ef-b1b9-eace37619d61",
   "metadata": {},
   "outputs": [
    {
     "data": {
      "text/plain": [
       "tensor([[0., 0., 0., 0.],\n",
       "        [0., 0., 0., 0.],\n",
       "        [0., 0., 0., 0.],\n",
       "        [0., 0., 0., 0.],\n",
       "        [0., 0., 0., 0.]], grad_fn=<SubBackward0>)"
      ]
     },
     "execution_count": 16,
     "metadata": {},
     "output_type": "execute_result"
    }
   ],
   "source": [
    "x @ w1.weight.t() @ w2.weight.t() - y"
   ]
  },
  {
   "cell_type": "code",
   "execution_count": null,
   "id": "689e1034-44b2-4afc-8944-593cc7462887",
   "metadata": {},
   "outputs": [],
   "source": []
  }
 ],
 "metadata": {
  "kernelspec": {
   "display_name": "Python 3 (ipykernel)",
   "language": "python",
   "name": "python3"
  },
  "language_info": {
   "codemirror_mode": {
    "name": "ipython",
    "version": 3
   },
   "file_extension": ".py",
   "mimetype": "text/x-python",
   "name": "python",
   "nbconvert_exporter": "python",
   "pygments_lexer": "ipython3",
   "version": "3.11.5"
  }
 },
 "nbformat": 4,
 "nbformat_minor": 5
}
