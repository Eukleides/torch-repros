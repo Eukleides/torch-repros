{
 "cells": [
  {
   "cell_type": "code",
   "execution_count": 8,
   "id": "d046b236-8b90-4066-b1c5-733b749e2fd4",
   "metadata": {},
   "outputs": [],
   "source": [
    "import torch\n",
    "from torch import nn\n",
    "import math\n",
    "import torch.nn.functional as F"
   ]
  },
  {
   "cell_type": "code",
   "execution_count": 18,
   "id": "627ac845-7beb-4506-9d3d-9831a9ba7362",
   "metadata": {},
   "outputs": [],
   "source": [
    "batch_size = 3\n",
    "d_model = 8\n",
    "seq_length = 5\n",
    "vocab_length = 20"
   ]
  },
  {
   "cell_type": "code",
   "execution_count": 19,
   "id": "76ef80a3-7846-4077-8ebc-354a01f31965",
   "metadata": {},
   "outputs": [],
   "source": [
    "x = torch.randint(0, vocab_length, (batch_size, seq_length))"
   ]
  },
  {
   "cell_type": "code",
   "execution_count": 20,
   "id": "9a62a986-270a-44ae-98e5-720554df598d",
   "metadata": {},
   "outputs": [],
   "source": [
    "emb = nn.Embedding(vocab_length, d_model)"
   ]
  },
  {
   "cell_type": "code",
   "execution_count": 21,
   "id": "eb01ddc3-ec68-45ba-8d03-2fe6fa72e13d",
   "metadata": {},
   "outputs": [
    {
     "data": {
      "text/plain": [
       "torch.Size([3, 5])"
      ]
     },
     "execution_count": 21,
     "metadata": {},
     "output_type": "execute_result"
    }
   ],
   "source": [
    "x.shape"
   ]
  },
  {
   "cell_type": "code",
   "execution_count": 22,
   "id": "e8b517be-2933-4477-99f8-d8641462d072",
   "metadata": {},
   "outputs": [
    {
     "data": {
      "text/plain": [
       "torch.Size([3, 5, 8])"
      ]
     },
     "execution_count": 22,
     "metadata": {},
     "output_type": "execute_result"
    }
   ],
   "source": [
    "emb(x).shape"
   ]
  },
  {
   "cell_type": "code",
   "execution_count": 23,
   "id": "0fb52080-d7ae-494c-b35d-d98a2317e393",
   "metadata": {},
   "outputs": [
    {
     "data": {
      "text/plain": [
       "tensor([[17, 11, 13, 10, 14],\n",
       "        [ 8, 16,  9,  5,  7],\n",
       "        [ 3, 13,  3, 17, 17]])"
      ]
     },
     "execution_count": 23,
     "metadata": {},
     "output_type": "execute_result"
    }
   ],
   "source": [
    "x"
   ]
  },
  {
   "cell_type": "code",
   "execution_count": 24,
   "id": "efb12115-9921-4e2d-972f-325b0599fde4",
   "metadata": {},
   "outputs": [],
   "source": [
    "pos_emb = nn.Embedding(seq_length, d_model)"
   ]
  },
  {
   "cell_type": "code",
   "execution_count": 26,
   "id": "e5f962c7-f8ee-4bf5-97b9-5ac6112fa144",
   "metadata": {},
   "outputs": [
    {
     "data": {
      "text/plain": [
       "Parameter containing:\n",
       "tensor([[ 0.6887,  0.5245,  0.4675,  1.4110,  0.5283, -0.4089, -0.5095, -1.1440],\n",
       "        [ 0.2648, -1.2524, -1.4919, -0.0045, -0.1085,  1.3737,  0.2537,  0.0600],\n",
       "        [-1.4652, -0.0575, -0.8603,  0.5402,  0.0211, -0.6835,  0.5369,  0.5124],\n",
       "        [-0.2174, -0.2244,  0.3186,  0.1249,  0.6546, -0.9558,  0.3548, -1.1349],\n",
       "        [ 1.0614,  1.1902,  2.3601,  0.9422, -1.1918,  1.1141, -0.1132,  1.0314]],\n",
       "       requires_grad=True)"
      ]
     },
     "execution_count": 26,
     "metadata": {},
     "output_type": "execute_result"
    }
   ],
   "source": [
    "pos_emb.weight"
   ]
  },
  {
   "cell_type": "code",
   "execution_count": 27,
   "id": "8fb01430-157d-44dd-a3d1-93be5b1f0ab6",
   "metadata": {},
   "outputs": [
    {
     "data": {
      "text/plain": [
       "tensor([[ 0.6887,  0.5245,  0.4675,  1.4110,  0.5283, -0.4089, -0.5095, -1.1440],\n",
       "        [ 0.2648, -1.2524, -1.4919, -0.0045, -0.1085,  1.3737,  0.2537,  0.0600],\n",
       "        [-1.4652, -0.0575, -0.8603,  0.5402,  0.0211, -0.6835,  0.5369,  0.5124]],\n",
       "       grad_fn=<EmbeddingBackward0>)"
      ]
     },
     "execution_count": 27,
     "metadata": {},
     "output_type": "execute_result"
    }
   ],
   "source": [
    "pos_emb(torch.arange(3))"
   ]
  },
  {
   "cell_type": "code",
   "execution_count": null,
   "id": "671deb92-0882-4ab4-a446-43a3570366f2",
   "metadata": {},
   "outputs": [],
   "source": []
  }
 ],
 "metadata": {
  "kernelspec": {
   "display_name": "Python 3 (ipykernel)",
   "language": "python",
   "name": "python3"
  },
  "language_info": {
   "codemirror_mode": {
    "name": "ipython",
    "version": 3
   },
   "file_extension": ".py",
   "mimetype": "text/x-python",
   "name": "python",
   "nbconvert_exporter": "python",
   "pygments_lexer": "ipython3",
   "version": "3.11.5"
  }
 },
 "nbformat": 4,
 "nbformat_minor": 5
}
