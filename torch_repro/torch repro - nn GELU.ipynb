{
 "cells": [
  {
   "cell_type": "code",
   "execution_count": 5,
   "id": "6ca47cac-72a7-41ba-94a1-bc3ce8cd52df",
   "metadata": {},
   "outputs": [],
   "source": [
    "import torch\n",
    "from torch import nn\n",
    "import math"
   ]
  },
  {
   "cell_type": "code",
   "execution_count": 16,
   "id": "031a2e70-1a4c-4300-a749-5726fed88197",
   "metadata": {},
   "outputs": [],
   "source": [
    "m = nn.GELU()"
   ]
  },
  {
   "cell_type": "code",
   "execution_count": 17,
   "id": "852d3221-c2ab-4836-a916-d2b97eba495a",
   "metadata": {},
   "outputs": [],
   "source": [
    "x = torch.rand(2,3)"
   ]
  },
  {
   "cell_type": "code",
   "execution_count": 18,
   "id": "17036d2b-b7d3-4daf-b6e2-06f85dd2b488",
   "metadata": {},
   "outputs": [
    {
     "data": {
      "text/plain": [
       "tensor([[0.1609, 0.9162, 0.2472],\n",
       "        [0.2453, 0.3947, 0.0230]])"
      ]
     },
     "execution_count": 18,
     "metadata": {},
     "output_type": "execute_result"
    }
   ],
   "source": [
    "x"
   ]
  },
  {
   "cell_type": "code",
   "execution_count": 19,
   "id": "665322ed-b7bf-4d03-b262-829b63bdc1d4",
   "metadata": {},
   "outputs": [
    {
     "data": {
      "text/plain": [
       "tensor([[0.0907, 0.7515, 0.1477],\n",
       "        [0.1464, 0.2579, 0.0117]])"
      ]
     },
     "execution_count": 19,
     "metadata": {},
     "output_type": "execute_result"
    }
   ],
   "source": [
    "m(x)"
   ]
  },
  {
   "cell_type": "code",
   "execution_count": 22,
   "id": "4cad6357-9b1a-4690-8194-1e18f313bed1",
   "metadata": {},
   "outputs": [],
   "source": [
    "def gelu(x):\n",
    "    f = 0.5*x*(1+math.erf(x/math.sqrt(2)))\n",
    "    return f"
   ]
  },
  {
   "cell_type": "code",
   "execution_count": 28,
   "id": "46f36b95-aeee-4788-b068-a2b2dfd1eebd",
   "metadata": {},
   "outputs": [
    {
     "data": {
      "text/plain": [
       "tensor(0.2579)"
      ]
     },
     "execution_count": 28,
     "metadata": {},
     "output_type": "execute_result"
    }
   ],
   "source": [
    "gelu(x[1][1])"
   ]
  },
  {
   "cell_type": "code",
   "execution_count": null,
   "id": "3311e8c6-356f-4d32-a677-f003ab031ec3",
   "metadata": {},
   "outputs": [],
   "source": []
  }
 ],
 "metadata": {
  "kernelspec": {
   "display_name": "Python 3 (ipykernel)",
   "language": "python",
   "name": "python3"
  },
  "language_info": {
   "codemirror_mode": {
    "name": "ipython",
    "version": 3
   },
   "file_extension": ".py",
   "mimetype": "text/x-python",
   "name": "python",
   "nbconvert_exporter": "python",
   "pygments_lexer": "ipython3",
   "version": "3.11.5"
  }
 },
 "nbformat": 4,
 "nbformat_minor": 5
}
