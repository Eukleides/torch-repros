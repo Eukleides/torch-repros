{
 "cells": [
  {
   "cell_type": "code",
   "execution_count": 1,
   "id": "59315351-c24d-47a6-bf5d-60168eec2b7c",
   "metadata": {},
   "outputs": [],
   "source": [
    "import tiktoken"
   ]
  },
  {
   "cell_type": "code",
   "execution_count": 3,
   "id": "36e5b9b9-0725-496c-b4c8-02ec73a21ea4",
   "metadata": {},
   "outputs": [],
   "source": [
    "enc = tiktoken.get_encoding(\"r50k_base\")"
   ]
  },
  {
   "cell_type": "code",
   "execution_count": 4,
   "id": "9a87a764-f553-4fd4-8516-dca5747a6e24",
   "metadata": {},
   "outputs": [],
   "source": [
    "assert enc.decode(enc.encode(\"hello world\")) == \"hello world\""
   ]
  },
  {
   "cell_type": "code",
   "execution_count": 5,
   "id": "d32fc531-3159-492f-8597-5334b7c64a47",
   "metadata": {},
   "outputs": [
    {
     "data": {
      "text/plain": [
       "[31373, 995]"
      ]
     },
     "execution_count": 5,
     "metadata": {},
     "output_type": "execute_result"
    }
   ],
   "source": [
    "enc.encode(\"hello world\")"
   ]
  },
  {
   "cell_type": "code",
   "execution_count": 6,
   "id": "53756833-588c-4b57-af6a-b3ad36220a9c",
   "metadata": {},
   "outputs": [
    {
     "data": {
      "text/plain": [
       "'hello world'"
      ]
     },
     "execution_count": 6,
     "metadata": {},
     "output_type": "execute_result"
    }
   ],
   "source": [
    "enc.decode([31373, 995])"
   ]
  },
  {
   "cell_type": "code",
   "execution_count": null,
   "id": "48b5efbc-38d1-417d-a461-f613a6d780cc",
   "metadata": {},
   "outputs": [],
   "source": []
  }
 ],
 "metadata": {
  "kernelspec": {
   "display_name": "Python 3 (ipykernel)",
   "language": "python",
   "name": "python3"
  },
  "language_info": {
   "codemirror_mode": {
    "name": "ipython",
    "version": 3
   },
   "file_extension": ".py",
   "mimetype": "text/x-python",
   "name": "python",
   "nbconvert_exporter": "python",
   "pygments_lexer": "ipython3",
   "version": "3.11.5"
  }
 },
 "nbformat": 4,
 "nbformat_minor": 5
}
