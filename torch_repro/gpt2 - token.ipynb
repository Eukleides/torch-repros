{
 "cells": [
  {
   "cell_type": "code",
   "execution_count": 13,
   "id": "59315351-c24d-47a6-bf5d-60168eec2b7c",
   "metadata": {},
   "outputs": [],
   "source": [
    "import tiktoken\n",
    "from transformers import GPT2Tokenizer"
   ]
  },
  {
   "cell_type": "code",
   "execution_count": 14,
   "id": "36e5b9b9-0725-496c-b4c8-02ec73a21ea4",
   "metadata": {},
   "outputs": [],
   "source": [
    "enc = tiktoken.get_encoding(\"r50k_base\")\n",
    "tokenizer = GPT2Tokenizer.from_pretrained(\"gpt2\")"
   ]
  },
  {
   "cell_type": "code",
   "execution_count": 15,
   "id": "37fbf11d-68f3-47f8-842f-385344e75a86",
   "metadata": {},
   "outputs": [],
   "source": [
    "txt = 'my name is Pavlos'"
   ]
  },
  {
   "cell_type": "code",
   "execution_count": 16,
   "id": "9a87a764-f553-4fd4-8516-dca5747a6e24",
   "metadata": {},
   "outputs": [],
   "source": [
    "assert enc.decode(enc.encode(txt)) == txt"
   ]
  },
  {
   "cell_type": "code",
   "execution_count": 17,
   "id": "d32fc531-3159-492f-8597-5334b7c64a47",
   "metadata": {},
   "outputs": [
    {
     "data": {
      "text/plain": [
       "[1820, 1438, 318, 24081, 33280]"
      ]
     },
     "execution_count": 17,
     "metadata": {},
     "output_type": "execute_result"
    }
   ],
   "source": [
    "enc.encode(txt)"
   ]
  },
  {
   "cell_type": "code",
   "execution_count": 18,
   "id": "53756833-588c-4b57-af6a-b3ad36220a9c",
   "metadata": {},
   "outputs": [
    {
     "data": {
      "text/plain": [
       "'my name is Pavlos'"
      ]
     },
     "execution_count": 18,
     "metadata": {},
     "output_type": "execute_result"
    }
   ],
   "source": [
    "enc.decode(enc.encode(txt))"
   ]
  },
  {
   "cell_type": "code",
   "execution_count": 19,
   "id": "711c5d79-77e7-4e49-87bc-b082119f6397",
   "metadata": {},
   "outputs": [
    {
     "data": {
      "text/plain": [
       "[1820, 1438, 318, 24081, 33280]"
      ]
     },
     "execution_count": 19,
     "metadata": {},
     "output_type": "execute_result"
    }
   ],
   "source": [
    "tokenizer(txt)[\"input_ids\"]"
   ]
  },
  {
   "cell_type": "code",
   "execution_count": null,
   "id": "971e5138-031b-4254-88ac-d0449a73aa16",
   "metadata": {},
   "outputs": [],
   "source": []
  }
 ],
 "metadata": {
  "kernelspec": {
   "display_name": "Python 3 (ipykernel)",
   "language": "python",
   "name": "python3"
  },
  "language_info": {
   "codemirror_mode": {
    "name": "ipython",
    "version": 3
   },
   "file_extension": ".py",
   "mimetype": "text/x-python",
   "name": "python",
   "nbconvert_exporter": "python",
   "pygments_lexer": "ipython3",
   "version": "3.11.5"
  }
 },
 "nbformat": 4,
 "nbformat_minor": 5
}
