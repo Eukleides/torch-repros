{
 "cells": [
  {
   "cell_type": "code",
   "execution_count": 1,
   "id": "bc41316d-b001-43eb-81a5-9f955dbe34fc",
   "metadata": {},
   "outputs": [],
   "source": [
    "import torch\n",
    "from torch import nn"
   ]
  },
  {
   "cell_type": "code",
   "execution_count": 8,
   "id": "24f05174-319a-434f-96d5-02aa5da75678",
   "metadata": {},
   "outputs": [],
   "source": [
    "x = torch.randint(1,11,(2,3,4))"
   ]
  },
  {
   "cell_type": "code",
   "execution_count": 11,
   "id": "1592a82a-74f3-465b-85bd-f4139a04c2ff",
   "metadata": {},
   "outputs": [
    {
     "data": {
      "text/plain": [
       "(tensor([[[ 6,  8,  8,  1],\n",
       "          [ 5,  2,  3,  2],\n",
       "          [ 2,  2,  6,  6]],\n",
       " \n",
       "         [[ 2,  9,  4,  7],\n",
       "          [ 2,  5, 10,  4],\n",
       "          [ 9,  7, 10,  8]]]),\n",
       " torch.Size([2, 3, 4]))"
      ]
     },
     "execution_count": 11,
     "metadata": {},
     "output_type": "execute_result"
    }
   ],
   "source": [
    "x, x.shape"
   ]
  },
  {
   "cell_type": "code",
   "execution_count": 12,
   "id": "9277276d-d3dc-4b85-909a-7ac57d1c8fe7",
   "metadata": {},
   "outputs": [
    {
     "data": {
      "text/plain": [
       "tensor([ 6,  8,  8,  1,  5,  2,  3,  2,  2,  2,  6,  6,  2,  9,  4,  7,  2,  5,\n",
       "        10,  4,  9,  7, 10,  8])"
      ]
     },
     "execution_count": 12,
     "metadata": {},
     "output_type": "execute_result"
    }
   ],
   "source": [
    "x.reshape(-1)"
   ]
  },
  {
   "cell_type": "code",
   "execution_count": 16,
   "id": "4f0da8c7-ac78-4562-a0a8-a84a43e0a890",
   "metadata": {},
   "outputs": [
    {
     "data": {
      "text/plain": [
       "(tensor([[ 6,  8,  8,  1,  5,  2,  3,  2,  2,  2,  6,  6],\n",
       "         [ 2,  9,  4,  7,  2,  5, 10,  4,  9,  7, 10,  8]]),\n",
       " torch.Size([2, 12]))"
      ]
     },
     "execution_count": 16,
     "metadata": {},
     "output_type": "execute_result"
    }
   ],
   "source": [
    "x.reshape(2, -1), x.reshape(2, -1).shape"
   ]
  },
  {
   "cell_type": "code",
   "execution_count": 15,
   "id": "beda5b90-ca23-4272-9bb7-170cf25e47be",
   "metadata": {},
   "outputs": [
    {
     "data": {
      "text/plain": [
       "(tensor([[[ 6,  8,  8,  1],\n",
       "          [ 5,  2,  3,  2]],\n",
       " \n",
       "         [[ 2,  2,  6,  6],\n",
       "          [ 2,  9,  4,  7]],\n",
       " \n",
       "         [[ 2,  5, 10,  4],\n",
       "          [ 9,  7, 10,  8]]]),\n",
       " torch.Size([3, 2, 4]))"
      ]
     },
     "execution_count": 15,
     "metadata": {},
     "output_type": "execute_result"
    }
   ],
   "source": [
    "x.reshape(3, 2, -1), x.reshape(3, 2, -1).shape"
   ]
  },
  {
   "cell_type": "code",
   "execution_count": 17,
   "id": "5a6f8981-b934-4c02-82a1-51fed713c23b",
   "metadata": {},
   "outputs": [
    {
     "data": {
      "text/plain": [
       "torch.Size([2, 3, 4])"
      ]
     },
     "execution_count": 17,
     "metadata": {},
     "output_type": "execute_result"
    }
   ],
   "source": [
    "x.shape"
   ]
  },
  {
   "cell_type": "code",
   "execution_count": 20,
   "id": "6c4bdf15-ac91-4a49-ae8e-e2ddd5b2b0e8",
   "metadata": {},
   "outputs": [
    {
     "data": {
      "text/plain": [
       "(tensor([[[ 6,  5,  2],\n",
       "          [ 8,  2,  2],\n",
       "          [ 8,  3,  6],\n",
       "          [ 1,  2,  6]],\n",
       " \n",
       "         [[ 2,  2,  9],\n",
       "          [ 9,  5,  7],\n",
       "          [ 4, 10, 10],\n",
       "          [ 7,  4,  8]]]),\n",
       " torch.Size([2, 4, 3]))"
      ]
     },
     "execution_count": 20,
     "metadata": {},
     "output_type": "execute_result"
    }
   ],
   "source": [
    "x.permute(0,2,1), x.permute(0,2,1).shape"
   ]
  },
  {
   "cell_type": "code",
   "execution_count": 21,
   "id": "840f37cc-173f-4066-a7d3-18e2f7a3f02c",
   "metadata": {},
   "outputs": [
    {
     "data": {
      "text/plain": [
       "tensor([[[0, 0, 0],\n",
       "         [0, 0, 0],\n",
       "         [0, 0, 0],\n",
       "         [0, 0, 0]],\n",
       "\n",
       "        [[0, 0, 0],\n",
       "         [0, 0, 0],\n",
       "         [0, 0, 0],\n",
       "         [0, 0, 0]]])"
      ]
     },
     "execution_count": 21,
     "metadata": {},
     "output_type": "execute_result"
    }
   ],
   "source": [
    "x.permute(0,2,1) - x.transpose(1,2)"
   ]
  },
  {
   "cell_type": "code",
   "execution_count": null,
   "id": "5f27527e-7cca-4f89-8ad0-f6a55273e9af",
   "metadata": {},
   "outputs": [],
   "source": []
  }
 ],
 "metadata": {
  "kernelspec": {
   "display_name": "Python 3 (ipykernel)",
   "language": "python",
   "name": "python3"
  },
  "language_info": {
   "codemirror_mode": {
    "name": "ipython",
    "version": 3
   },
   "file_extension": ".py",
   "mimetype": "text/x-python",
   "name": "python",
   "nbconvert_exporter": "python",
   "pygments_lexer": "ipython3",
   "version": "3.11.5"
  }
 },
 "nbformat": 4,
 "nbformat_minor": 5
}
