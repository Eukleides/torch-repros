{
 "cells": [
  {
   "cell_type": "code",
   "execution_count": 1,
   "id": "36549cae-a133-4c08-b267-722a1d5ca471",
   "metadata": {},
   "outputs": [],
   "source": [
    "import torch\n",
    "from torch import nn\n",
    "import math\n",
    "import torch.nn.functional as F"
   ]
  },
  {
   "cell_type": "code",
   "execution_count": 2,
   "id": "0a6a363a-541e-4776-9fea-80af3d3c6f13",
   "metadata": {},
   "outputs": [
    {
     "data": {
      "text/plain": [
       "<torch._C.Generator at 0x25a905c0450>"
      ]
     },
     "execution_count": 2,
     "metadata": {},
     "output_type": "execute_result"
    }
   ],
   "source": [
    "torch.manual_seed(0)"
   ]
  },
  {
   "cell_type": "code",
   "execution_count": 3,
   "id": "84698ef3-cc9a-41ed-95f3-a35c590ea96e",
   "metadata": {},
   "outputs": [],
   "source": [
    "y_in = torch.rand(3,4)"
   ]
  },
  {
   "cell_type": "code",
   "execution_count": 4,
   "id": "80b8c8f9-d2c5-4338-b961-c13e2d45de89",
   "metadata": {},
   "outputs": [],
   "source": [
    "y_tgt = torch.randint(0,4,(3,), dtype=torch.int64)"
   ]
  },
  {
   "cell_type": "code",
   "execution_count": 5,
   "id": "f300ad65-c9f3-4e19-be45-81f97e3d9bf3",
   "metadata": {},
   "outputs": [
    {
     "data": {
      "text/plain": [
       "(tensor([[0.4963, 0.7682, 0.0885, 0.1320],\n",
       "         [0.3074, 0.6341, 0.4901, 0.8964],\n",
       "         [0.4556, 0.6323, 0.3489, 0.4017]]),\n",
       " tensor([0, 3, 2]))"
      ]
     },
     "execution_count": 5,
     "metadata": {},
     "output_type": "execute_result"
    }
   ],
   "source": [
    "y_in, y_tgt"
   ]
  },
  {
   "cell_type": "markdown",
   "id": "68f2868a-d322-43de-9a48-83f17917534c",
   "metadata": {},
   "source": [
    "loss = F.cross_entropy(y_in, y_tgt) = F.nll_loss(F.log_softmax(y_in), y_tgt)"
   ]
  },
  {
   "cell_type": "code",
   "execution_count": 7,
   "id": "51aa5e6c-f787-458b-a2c8-250ef5b0021a",
   "metadata": {},
   "outputs": [
    {
     "data": {
      "text/plain": [
       "(tensor(1.2997), tensor(0.))"
      ]
     },
     "execution_count": 7,
     "metadata": {},
     "output_type": "execute_result"
    }
   ],
   "source": [
    "F.cross_entropy(y_in, y_tgt) , F.cross_entropy(y_in, y_tgt) - F.nll_loss(F.log_softmax(y_in, dim=1), y_tgt)"
   ]
  },
  {
   "cell_type": "code",
   "execution_count": 8,
   "id": "78dbecd8-4831-4e65-abbe-3bc8f4a71f4c",
   "metadata": {},
   "outputs": [
    {
     "data": {
      "text/plain": [
       "tensor([[-1.3008, -1.0289, -1.7086, -1.6651],\n",
       "        [-1.6844, -1.3577, -1.5017, -1.0953],\n",
       "        [-1.3961, -1.2194, -1.5029, -1.4500]])"
      ]
     },
     "execution_count": 8,
     "metadata": {},
     "output_type": "execute_result"
    }
   ],
   "source": [
    "F.log_softmax(y_in, dim=1)"
   ]
  },
  {
   "cell_type": "code",
   "execution_count": 9,
   "id": "c23c8570-168d-485f-b8e4-3db81d51f94e",
   "metadata": {},
   "outputs": [],
   "source": [
    "lsm = (y_in.exp().t()/y_in.exp().sum(dim=1)).t().log()"
   ]
  },
  {
   "cell_type": "code",
   "execution_count": 10,
   "id": "3b491835-ae53-4227-993b-459da42ca046",
   "metadata": {},
   "outputs": [
    {
     "data": {
      "text/plain": [
       "tensor([[-1.3008, -1.0289, -1.7086, -1.6651],\n",
       "        [-1.6844, -1.3577, -1.5017, -1.0953],\n",
       "        [-1.3961, -1.2194, -1.5029, -1.4500]])"
      ]
     },
     "execution_count": 10,
     "metadata": {},
     "output_type": "execute_result"
    }
   ],
   "source": [
    "lsm"
   ]
  },
  {
   "cell_type": "code",
   "execution_count": 11,
   "id": "acb7def5-6900-4dd8-86ea-f6661908bdf0",
   "metadata": {},
   "outputs": [
    {
     "data": {
      "text/plain": [
       "tensor(-1.2997)"
      ]
     },
     "execution_count": 11,
     "metadata": {},
     "output_type": "execute_result"
    }
   ],
   "source": [
    "lsm.gather(1, y_tgt.view(-1,1)).mean()"
   ]
  },
  {
   "cell_type": "code",
   "execution_count": null,
   "id": "c27f683c-fb68-4f16-a460-30f881c70aa3",
   "metadata": {},
   "outputs": [],
   "source": []
  }
 ],
 "metadata": {
  "kernelspec": {
   "display_name": "Python 3 (ipykernel)",
   "language": "python",
   "name": "python3"
  },
  "language_info": {
   "codemirror_mode": {
    "name": "ipython",
    "version": 3
   },
   "file_extension": ".py",
   "mimetype": "text/x-python",
   "name": "python",
   "nbconvert_exporter": "python",
   "pygments_lexer": "ipython3",
   "version": "3.11.5"
  }
 },
 "nbformat": 4,
 "nbformat_minor": 5
}
