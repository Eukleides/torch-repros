{
 "cells": [
  {
   "cell_type": "code",
   "execution_count": 94,
   "id": "68af0d84-4afe-41c3-8c6f-33cf4d298a85",
   "metadata": {},
   "outputs": [],
   "source": [
    "import torch\n",
    "from torch import nn\n",
    "from torch.utils.data import Dataset, DataLoader"
   ]
  },
  {
   "cell_type": "code",
   "execution_count": 95,
   "id": "42a2b608-d29d-4c64-9424-667e13c9799a",
   "metadata": {},
   "outputs": [],
   "source": [
    "def f(x):\n",
    "    return -2*x*x + 3.5*x -1.0"
   ]
  },
  {
   "cell_type": "code",
   "execution_count": 144,
   "id": "cbcc4944-6560-40d1-ac3f-b937531d1084",
   "metadata": {},
   "outputs": [],
   "source": [
    "class fmodel(nn.Module):   \n",
    "    def __init__(self):\n",
    "        super().__init__()\n",
    "        \n",
    "        self.model = nn.Sequential(\n",
    "            nn.Linear(in_features=1,out_features=100),\n",
    "            nn.ReLU(),\n",
    "            nn.Linear(in_features=100,out_features=1),\n",
    "            )\n",
    "        \n",
    "    def forward(self, x):\n",
    "        return self.model(x)"
   ]
  },
  {
   "cell_type": "code",
   "execution_count": 145,
   "id": "b1e0d76f-6519-4438-a7d5-ae1d23697ffc",
   "metadata": {},
   "outputs": [],
   "source": [
    "class CustomDataset(Dataset):\n",
    "    def __init__(self, n=200000):\n",
    "        x = torch.rand(n,1)\n",
    "        self.data = [x, f(x)]\n",
    "        \n",
    "    def __len__(self):\n",
    "        return len(self.data[0])\n",
    "\n",
    "    def __getitem__(self, idx):\n",
    "        return self.data[0][idx], self.data[1][idx]"
   ]
  },
  {
   "cell_type": "code",
   "execution_count": 146,
   "id": "629d6998-29f1-47f9-a618-917330da01d9",
   "metadata": {},
   "outputs": [],
   "source": [
    "training_data = CustomDataset(200000)"
   ]
  },
  {
   "cell_type": "code",
   "execution_count": 147,
   "id": "c12bd5c5-b121-444f-818d-f52289ba85bc",
   "metadata": {},
   "outputs": [],
   "source": [
    "train_dataloader = DataLoader(training_data, batch_size=64, shuffle=True)"
   ]
  },
  {
   "cell_type": "code",
   "execution_count": 148,
   "id": "82b05fae-63c9-48de-bc5f-0786bcb285f8",
   "metadata": {},
   "outputs": [],
   "source": [
    "model = fmodel()"
   ]
  },
  {
   "cell_type": "code",
   "execution_count": 149,
   "id": "02d204f0-df69-4f6b-872b-9c9b700977c6",
   "metadata": {},
   "outputs": [],
   "source": [
    "loss_fn = nn.MSELoss()"
   ]
  },
  {
   "cell_type": "code",
   "execution_count": 150,
   "id": "90a2deaf-a175-4ffa-803e-e66c90d32530",
   "metadata": {},
   "outputs": [],
   "source": [
    "optimizer = torch.optim.Adam(model.parameters(), lr=0.001)"
   ]
  },
  {
   "cell_type": "code",
   "execution_count": 151,
   "id": "155da5db-1e91-41b3-8134-c9e5a99745c3",
   "metadata": {},
   "outputs": [],
   "source": [
    "def train_loop(train_dataloader, model, loss_fn, optimizer):\n",
    "    size = len(train_dataloader.dataset)\n",
    "    print(size)\n",
    "    # Set the model to training mode - important for batch normalization and dropout layers\n",
    "    # Unnecessary in this situation but added for best practices\n",
    "    model.train()\n",
    "    for batch, (X, y) in enumerate(train_dataloader):\n",
    "        # Compute prediction and loss\n",
    "        pred = model(X)\n",
    "        loss = loss_fn(pred, y)\n",
    "\n",
    "        # Backpropagation\n",
    "        loss.backward()\n",
    "        optimizer.step()\n",
    "        optimizer.zero_grad()\n",
    "\n",
    "        if batch % 500 == 0:\n",
    "            loss, current = loss.item(), (batch + 1) * len(X)\n",
    "            print(f\"loss: {loss:>7f}  [{current:>5d}/{size:>5d}]\")"
   ]
  },
  {
   "cell_type": "code",
   "execution_count": 152,
   "id": "6d735afb-66e8-4dc2-97fd-71d39ff4ab2a",
   "metadata": {},
   "outputs": [
    {
     "name": "stdout",
     "output_type": "stream",
     "text": [
      "200000\n",
      "loss: 0.347937  [   64/200000]\n",
      "loss: 0.000502  [32064/200000]\n",
      "loss: 0.000069  [64064/200000]\n",
      "loss: 0.000019  [96064/200000]\n",
      "loss: 0.000017  [128064/200000]\n",
      "loss: 0.000008  [160064/200000]\n",
      "loss: 0.000008  [192064/200000]\n"
     ]
    }
   ],
   "source": [
    "train_loop(train_dataloader, model, loss_fn, optimizer)"
   ]
  },
  {
   "cell_type": "code",
   "execution_count": 153,
   "id": "4ef48ebe-9d37-439d-83ff-0e407a3d22bc",
   "metadata": {},
   "outputs": [],
   "source": [
    "x = torch.rand(10,1)"
   ]
  },
  {
   "cell_type": "code",
   "execution_count": 154,
   "id": "b6171741-55a4-4c54-b44e-1f6191aceb22",
   "metadata": {},
   "outputs": [],
   "source": [
    "y = f(x)\n",
    "y_pred = model(x)"
   ]
  },
  {
   "cell_type": "code",
   "execution_count": 155,
   "id": "be61d0b8-6eec-4880-8bc0-034c0014560f",
   "metadata": {},
   "outputs": [],
   "source": [
    "import matplotlib.pylab as plt"
   ]
  },
  {
   "cell_type": "code",
   "execution_count": 156,
   "id": "a457c39f-a28a-4e48-84b4-154df1af0760",
   "metadata": {},
   "outputs": [
    {
     "data": {
      "image/png": "[encoded data removed]",
      "text/plain": [
       "<Figure size 1000x600 with 1 Axes>"
      ]
     },
     "metadata": {},
     "output_type": "display_data"
    }
   ],
   "source": [
    "# Stack vertically\n",
    "fig, ax = plt.subplots(nrows=1, ncols=1, sharex=True, figsize=(10,6))\n",
    "\n",
    "# plots\n",
    "ax.plot(x, y,'ro')\n",
    "ax.plot(x, y_pred.detach(),'go')\n",
    "\n",
    "# labels\n",
    "ax.set_ylabel('f(x)')\n",
    "ax.set_title('some functions')\n",
    "    \n",
    "# figure settings\n",
    "fig.tight_layout() # adjusts spacing between subplots"
   ]
  },
  {
   "cell_type": "code",
   "execution_count": null,
   "id": "f9cd7619-98b8-4c43-8b6f-5992ea6edb78",
   "metadata": {},
   "outputs": [],
   "source": []
  }
 ],
 "metadata": {
  "kernelspec": {
   "display_name": "Python 3 (ipykernel)",
   "language": "python",
   "name": "python3"
  },
  "language_info": {
   "codemirror_mode": {
    "name": "ipython",
    "version": 3
   },
   "file_extension": ".py",
   "mimetype": "text/x-python",
   "name": "python",
   "nbconvert_exporter": "python",
   "pygments_lexer": "ipython3",
   "version": "3.11.5"
  }
 },
 "nbformat": 4,
 "nbformat_minor": 5
}
